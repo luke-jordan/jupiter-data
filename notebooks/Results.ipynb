{
 "cells": [
  {
   "cell_type": "markdown",
   "metadata": {},
   "source": [
    "# Results of some experiments"
   ]
  },
  {
   "cell_type": "markdown",
   "metadata": {},
   "source": [
    "## June 18, 2020"
   ]
  },
  {
   "cell_type": "markdown",
   "metadata": {},
   "source": [
    "* Including days since first save:"
   ]
  },
  {
   "cell_type": "markdown",
   "metadata": {},
   "source": [
    "```\n",
    "Running DummyClassifier(strategy='prior')\n",
    "accuracy: 0.851 average_precision: 0.149 roc_auc: 0.500 recall_macro: 0.500 f1_macro: 0.460\n",
    "=== new best DummyClassifier(strategy='prior') (using recall_macro):\n",
    "accuracy: 0.851 average_precision: 0.149 roc_auc: 0.500 recall_macro: 0.500 f1_macro: 0.460\n",
    "\n",
    "Running GaussianNB()\n",
    "accuracy: 0.257 average_precision: 0.169 roc_auc: 0.564 recall_macro: 0.542 f1_macro: 0.256\n",
    "=== new best GaussianNB() (using recall_macro):\n",
    "accuracy: 0.257 average_precision: 0.169 roc_auc: 0.564 recall_macro: 0.542 f1_macro: 0.256\n",
    "\n",
    "Running MultinomialNB()\n",
    "accuracy: 0.835 average_precision: 0.285 roc_auc: 0.708 recall_macro: 0.512 f1_macro: 0.497\n",
    "Running DecisionTreeClassifier(class_weight='balanced', max_depth=1)\n",
    "accuracy: 0.586 average_precision: 0.177 roc_auc: 0.578 recall_macro: 0.578 f1_macro: 0.498\n",
    "=== new best DecisionTreeClassifier(class_weight='balanced', max_depth=1) (using recall_macro):\n",
    "accuracy: 0.586 average_precision: 0.177 roc_auc: 0.578 recall_macro: 0.578 f1_macro: 0.498\n",
    "\n",
    "Running DecisionTreeClassifier(class_weight='balanced', max_depth=5)\n",
    "accuracy: 0.641 average_precision: 0.312 roc_auc: 0.713 recall_macro: 0.653 f1_macro: 0.552\n",
    "=== new best DecisionTreeClassifier(class_weight='balanced', max_depth=5) (using recall_macro):\n",
    "accuracy: 0.641 average_precision: 0.312 roc_auc: 0.713 recall_macro: 0.653 f1_macro: 0.552\n",
    "\n",
    "Running DecisionTreeClassifier(class_weight='balanced', min_impurity_decrease=0.01)\n",
    "accuracy: 0.553 average_precision: 0.239 roc_auc: 0.669 recall_macro: 0.631 f1_macro: 0.495\n",
    "Running LogisticRegression(C=0.1, class_weight='balanced', max_iter=1000)\n",
    "accuracy: 0.663 average_precision: 0.316 roc_auc: 0.736 recall_macro: 0.663 f1_macro: 0.570\n",
    "=== new best LogisticRegression(C=0.1, class_weight='balanced', max_iter=1000) (using recall_macro):\n",
    "accuracy: 0.663 average_precision: 0.316 roc_auc: 0.736 recall_macro: 0.663 f1_macro: 0.570\n",
    "\n",
    "Running LogisticRegression(class_weight='balanced', max_iter=1000)\n",
    "accuracy: 0.668 average_precision: 0.311 roc_auc: 0.737 recall_macro: 0.677 f1_macro: 0.578\n",
    "=== new best LogisticRegression(class_weight='balanced', max_iter=1000) (using recall_macro):\n",
    "accuracy: 0.668 average_precision: 0.311 roc_auc: 0.737 recall_macro: 0.677 f1_macro: 0.578\n",
    "\n",
    "\n",
    "Best model:\n",
    "LogisticRegression(class_weight='balanced', max_iter=1000)\n",
    "Best Scores:\n",
    "accuracy: 0.668 average_precision: 0.311 roc_auc: 0.737 recall_macro: 0.677 f1_macro: 0.578\n",
    "```"
   ]
  },
  {
   "cell_type": "markdown",
   "metadata": {},
   "source": [
    "* Removing days since first stage: no major difference:\n",
    "        \n",
    "```\n",
    "Running DummyClassifier(strategy='prior')\n",
    "accuracy: 0.851 average_precision: 0.149 roc_auc: 0.500 recall_macro: 0.500 f1_macro: 0.460\n",
    "=== new best DummyClassifier(strategy='prior') (using recall_macro):\n",
    "accuracy: 0.851 average_precision: 0.149 roc_auc: 0.500 recall_macro: 0.500 f1_macro: 0.460\n",
    "\n",
    "Running GaussianNB()\n",
    "accuracy: 0.257 average_precision: 0.169 roc_auc: 0.565 recall_macro: 0.542 f1_macro: 0.256\n",
    "=== new best GaussianNB() (using recall_macro):\n",
    "accuracy: 0.257 average_precision: 0.169 roc_auc: 0.565 recall_macro: 0.542 f1_macro: 0.256\n",
    "\n",
    "Running MultinomialNB()\n",
    "accuracy: 0.836 average_precision: 0.285 roc_auc: 0.708 recall_macro: 0.513 f1_macro: 0.497\n",
    "Running DecisionTreeClassifier(class_weight='balanced', max_depth=1)\n",
    "accuracy: 0.586 average_precision: 0.177 roc_auc: 0.578 recall_macro: 0.578 f1_macro: 0.498\n",
    "=== new best DecisionTreeClassifier(class_weight='balanced', max_depth=1) (using recall_macro):\n",
    "accuracy: 0.586 average_precision: 0.177 roc_auc: 0.578 recall_macro: 0.578 f1_macro: 0.498\n",
    "\n",
    "Running DecisionTreeClassifier(class_weight='balanced', max_depth=5)\n",
    "accuracy: 0.650 average_precision: 0.319 roc_auc: 0.706 recall_macro: 0.641 f1_macro: 0.554\n",
    "=== new best DecisionTreeClassifier(class_weight='balanced', max_depth=5) (using recall_macro):\n",
    "accuracy: 0.650 average_precision: 0.319 roc_auc: 0.706 recall_macro: 0.641 f1_macro: 0.554\n",
    "\n",
    "Running DecisionTreeClassifier(class_weight='balanced', min_impurity_decrease=0.01)\n",
    "accuracy: 0.579 average_precision: 0.231 roc_auc: 0.661 recall_macro: 0.620 f1_macro: 0.507\n",
    "Running LogisticRegression(C=0.1, class_weight='balanced', max_iter=1000)\n",
    "accuracy: 0.667 average_precision: 0.312 roc_auc: 0.735 recall_macro: 0.672 f1_macro: 0.575\n",
    "=== new best LogisticRegression(C=0.1, class_weight='balanced', max_iter=1000) (using recall_macro):\n",
    "accuracy: 0.667 average_precision: 0.312 roc_auc: 0.735 recall_macro: 0.672 f1_macro: 0.575\n",
    "\n",
    "Running LogisticRegression(class_weight='balanced', max_iter=1000)\n",
    "accuracy: 0.666 average_precision: 0.309 roc_auc: 0.737 recall_macro: 0.669 f1_macro: 0.574\n",
    "\n",
    "Best model:\n",
    "LogisticRegression(C=0.1, class_weight='balanced', max_iter=1000)\n",
    "Best Scores:\n",
    "accuracy: 0.667 average_precision: 0.312 roc_auc: 0.735 recall_macro: 0.672 f1_macro: 0.575\n",
    "```"
   ]
  },
  {
   "cell_type": "markdown",
   "metadata": {},
   "source": [
    "* Removing both: worse accuracy, slgiht better recall (0.679), same f1"
   ]
  },
  {
   "cell_type": "markdown",
   "metadata": {},
   "source": [
    "* Day of week, without preprocessing, is not working well. With easy preprocessing, not helping either (same sort of accuracy as above)"
   ]
  },
  {
   "cell_type": "markdown",
   "metadata": {},
   "source": [
    "* **Winner, so far** :: adding prior redemptions, doing preprocessing, gets a decision tree over 0.7 accuracy, f1 is over 0.61. Precision still low but recall is climbing. **Note** : there is some weirdness in the data crosses, there are rows that are being excluded. Adjust (as N is dropping to 1,000)"
   ]
  },
  {
   "cell_type": "markdown",
   "metadata": {},
   "source": [
    "```\n",
    "Running DummyClassifier(strategy='prior')\n",
    "accuracy: 0.837 average_precision: 0.163 roc_auc: 0.500 recall_macro: 0.500 f1_macro: 0.456\n",
    "=== new best DummyClassifier(strategy='prior') (using recall_macro):\n",
    "accuracy: 0.837 average_precision: 0.163 roc_auc: 0.500 recall_macro: 0.500 f1_macro: 0.456\n",
    "\n",
    "Running GaussianNB()\n",
    "accuracy: 0.540 average_precision: 0.328 roc_auc: 0.684 recall_macro: 0.619 f1_macro: 0.489\n",
    "=== new best GaussianNB() (using recall_macro):\n",
    "accuracy: 0.540 average_precision: 0.328 roc_auc: 0.684 recall_macro: 0.619 f1_macro: 0.489\n",
    "\n",
    "Running MultinomialNB()\n",
    "accuracy: 0.817 average_precision: 0.318 roc_auc: 0.684 recall_macro: 0.540 f1_macro: 0.541\n",
    "Running DecisionTreeClassifier(class_weight='balanced', max_depth=1)\n",
    "accuracy: 0.490 average_precision: 0.197 roc_auc: 0.596 recall_macro: 0.596 f1_macro: 0.451\n",
    "Running DecisionTreeClassifier(class_weight='balanced', max_depth=5)\n",
    "accuracy: 0.721 average_precision: 0.317 roc_auc: 0.709 recall_macro: 0.662 f1_macro: 0.610\n",
    "=== new best DecisionTreeClassifier(class_weight='balanced', max_depth=5) (using recall_macro):\n",
    "accuracy: 0.721 average_precision: 0.317 roc_auc: 0.709 recall_macro: 0.662 f1_macro: 0.610\n",
    "\n",
    "Running DecisionTreeClassifier(class_weight='balanced', min_impurity_decrease=0.01)\n",
    "accuracy: 0.701 average_precision: 0.272 roc_auc: 0.676 recall_macro: 0.656 f1_macro: 0.596\n",
    "Running LogisticRegression(C=0.1, class_weight='balanced', max_iter=1000)\n",
    "accuracy: 0.650 average_precision: 0.331 roc_auc: 0.717 recall_macro: 0.660 f1_macro: 0.570\n",
    "Running LogisticRegression(class_weight='balanced', max_iter=1000)\n",
    "accuracy: 0.646 average_precision: 0.344 roc_auc: 0.718 recall_macro: 0.660 f1_macro: 0.568\n",
    "\n",
    "Best model:\n",
    "DecisionTreeClassifier(class_weight='balanced', max_depth=5)\n",
    "Best Scores:\n",
    "accuracy: 0.721 average_precision: 0.317 roc_auc: 0.709 recall_macro: 0.662 f1_macro: 0.610\n",
    "```"
   ]
  },
  {
   "cell_type": "markdown",
   "metadata": {},
   "source": [
    "## June 21, 2020"
   ]
  },
  {
   "cell_type": "markdown",
   "metadata": {},
   "source": [
    "* Running DABL again, somehow dropped quite a bit"
   ]
  },
  {
   "cell_type": "markdown",
   "metadata": {},
   "source": [
    "```\n",
    "Running DummyClassifier(strategy='prior')\n",
    "accuracy: 0.825 average_precision: 0.175 roc_auc: 0.500 recall_macro: 0.500 f1_macro: 0.452\n",
    "=== new best DummyClassifier(strategy='prior') (using recall_macro):\n",
    "accuracy: 0.825 average_precision: 0.175 roc_auc: 0.500 recall_macro: 0.500 f1_macro: 0.452\n",
    "\n",
    "Running GaussianNB()\n",
    "accuracy: 0.634 average_precision: 0.341 roc_auc: 0.684 recall_macro: 0.632 f1_macro: 0.558\n",
    "=== new best GaussianNB() (using recall_macro):\n",
    "accuracy: 0.634 average_precision: 0.341 roc_auc: 0.684 recall_macro: 0.632 f1_macro: 0.558\n",
    "\n",
    "Running MultinomialNB()\n",
    "accuracy: 0.794 average_precision: 0.360 roc_auc: 0.692 recall_macro: 0.585 f1_macro: 0.593\n",
    "Running DecisionTreeClassifier(class_weight='balanced', max_depth=1)\n",
    "accuracy: 0.483 average_precision: 0.212 roc_auc: 0.600 recall_macro: 0.600 f1_macro: 0.454\n",
    "Running DecisionTreeClassifier(class_weight='balanced', max_depth=5)\n",
    "accuracy: 0.665 average_precision: 0.339 roc_auc: 0.733 recall_macro: 0.704 f1_macro: 0.601\n",
    "=== new best DecisionTreeClassifier(class_weight='balanced', max_depth=5) (using recall_macro):\n",
    "accuracy: 0.665 average_precision: 0.339 roc_auc: 0.733 recall_macro: 0.704 f1_macro: 0.601\n",
    "\n",
    "Running DecisionTreeClassifier(class_weight='balanced', min_impurity_decrease=0.01)\n",
    "accuracy: 0.542 average_precision: 0.268 roc_auc: 0.674 recall_macro: 0.648 f1_macro: 0.506\n",
    "Running LogisticRegression(C=0.1, class_weight='balanced', max_iter=1000)\n",
    "accuracy: 0.663 average_precision: 0.375 roc_auc: 0.727 recall_macro: 0.677 f1_macro: 0.591\n",
    "Running LogisticRegression(class_weight='balanced', max_iter=1000)\n",
    "accuracy: 0.665 average_precision: 0.388 roc_auc: 0.729 recall_macro: 0.678 f1_macro: 0.593\n",
    "\n",
    "Best model:\n",
    "DecisionTreeClassifier(class_weight='balanced', max_depth=5)\n",
    "Best Scores:\n",
    "accuracy: 0.665 average_precision: 0.339 roc_auc: 0.733 recall_macro: 0.704 f1_macro: 0.601\n",
    "```"
   ]
  },
  {
   "cell_type": "markdown",
   "metadata": {},
   "source": [
    "* Moving on to SVM, after grid search:"
   ]
  },
  {
   "cell_type": "markdown",
   "metadata": {},
   "source": [
    "```\n",
    "precision_recall_fscore_support(Y_test, search_clf.predict(X_test), average='binary')\n",
    "(0.2909090909090909, 0.8205128205128205, 0.42953020134228187, None)\n",
    "```"
   ]
  },
  {
   "cell_type": "markdown",
   "metadata": {},
   "source": [
    "* So pretty solid Recall, but lousy precision. Accuracy run separately is 0.60"
   ]
  },
  {
   "cell_type": "markdown",
   "metadata": {},
   "source": [
    "* Then moving on to gradient boosted, default params:"
   ]
  },
  {
   "cell_type": "markdown",
   "metadata": {},
   "source": [
    "```\n",
    "(0.6470588235294118, 0.28205128205128205, 0.3928571428571429, None)\n",
    "```"
   ]
  },
  {
   "cell_type": "markdown",
   "metadata": {},
   "source": [
    "* So, much better precision (best so far), but lousy recall. Accuracy score is 0.84 (!). Even higher at min samples of 10. But recall still bad."
   ]
  },
  {
   "cell_type": "markdown",
   "metadata": {},
   "source": [
    "## June 22, 2020"
   ]
  },
  {
   "cell_type": "markdown",
   "metadata": {},
   "source": [
    "* SVM results with time column, day of week as category, actually performs quite a bit badly (these are supposedly best practices). So."
   ]
  },
  {
   "cell_type": "markdown",
   "metadata": {},
   "source": [
    "* Note : above holds for DABL fit too (i.e., not SVM problem). Probably the difficulty is that categorical makes the space very sparse with current data. So, maybe switch that when closer to 10k."
   ]
  },
  {
   "cell_type": "markdown",
   "metadata": {},
   "source": [
    "## June 26, 2020"
   ]
  },
  {
   "cell_type": "markdown",
   "metadata": {},
   "source": [
    "* Grid search on SVM : C = 1000 leads to very high fit times, but not much gain in accuracy. So for now, removing, but restore at some point later."
   ]
  },
  {
   "cell_type": "markdown",
   "metadata": {},
   "source": [
    "* This does largely make sense, as at high C the classifier is going to be fitting some very complicated hyperplane into relatively sparse sense, resulting in a lot of contortion but not much better generalization"
   ]
  },
  {
   "cell_type": "markdown",
   "metadata": {},
   "source": [
    "* Hence for now removing high C value"
   ]
  },
  {
   "cell_type": "markdown",
   "metadata": {},
   "source": [
    "* But also, standard SVM run now:\n",
    "```\n",
    "(0.2782608695652174, 0.7619047619047619, 0.40764331210191085, None)\n",
    "```\n"
   ]
  },
  {
   "cell_type": "code",
   "execution_count": null,
   "metadata": {},
   "outputs": [],
   "source": []
  }
 ],
 "metadata": {
  "kernelspec": {
   "display_name": "Python [conda env:jupiter-ml] *",
   "language": "python",
   "name": "conda-env-jupiter-ml-py"
  },
  "language_info": {
   "codemirror_mode": {
    "name": "ipython",
    "version": 3
   },
   "file_extension": ".py",
   "mimetype": "text/x-python",
   "name": "python",
   "nbconvert_exporter": "python",
   "pygments_lexer": "ipython3",
   "version": "3.8.3"
  }
 },
 "nbformat": 4,
 "nbformat_minor": 4
}
