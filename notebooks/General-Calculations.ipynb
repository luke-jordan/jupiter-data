{
 "cells": [
  {
   "cell_type": "markdown",
   "metadata": {},
   "source": [
    "# Set of general analytical queries"
   ]
  },
  {
   "cell_type": "code",
   "execution_count": null,
   "metadata": {},
   "outputs": [],
   "source": [
    "import pandas as pd"
   ]
  },
  {
   "cell_type": "code",
   "execution_count": null,
   "metadata": {},
   "outputs": [],
   "source": [
    "import numpy as np"
   ]
  },
  {
   "cell_type": "code",
   "execution_count": null,
   "metadata": {},
   "outputs": [],
   "source": [
    "from google.cloud import bigquery, storage"
   ]
  },
  {
   "cell_type": "code",
   "execution_count": null,
   "metadata": {},
   "outputs": [],
   "source": [
    "bq = bigquery.Client()"
   ]
  },
  {
   "cell_type": "markdown",
   "metadata": {},
   "source": [
    "## Defining some BQ queries"
   ]
  },
  {
   "cell_type": "code",
   "execution_count": null,
   "metadata": {},
   "outputs": [],
   "source": [
    "last_save_time_query = \"\"\"\n",
    "    select distinct(user_id), TIMESTAMP_MILLIS(max(time_transaction_occurred)) as save_time\n",
    "    from ops.user_behaviour where transaction_type = 'SAVING_EVENT'\n",
    "    group by user_id\n",
    "\"\"\""
   ]
  },
  {
   "cell_type": "code",
   "execution_count": null,
   "metadata": {},
   "outputs": [],
   "source": [
    "boost_redemption_query = \"\"\"\n",
    "    with boost_offers as (\n",
    "            select *, TIMESTAMP_MILLIS(created_at) as creation_timestamp \n",
    "            from ops.all_user_events \n",
    "            where event_type like 'BOOST_CREATED%'\n",
    "\n",
    "    ), boost_redemptions as (\n",
    "            select *, TIMESTAMP_MILLIS(created_at) as creation_timestamp \n",
    "            from ops.all_user_events \n",
    "            where event_type = 'BOOST_REDEEMED'\n",
    "    )\n",
    "    select boost_offers.user_id, boost_offers.event_type, boost_offers.context, \n",
    "        boost_offers.creation_timestamp as boost_creation_time, boost_redemptions.creation_timestamp as boost_redemption_time,  \n",
    "        TIMESTAMP_DIFF(boost_redemptions.creation_timestamp, boost_offers.creation_timestamp, HOUR) as time_from_boost_to_save\n",
    "    from boost_offers left join boost_redemptions on boost_offers.user_id = boost_redemptions.user_id\n",
    "        where \n",
    "        TIMESTAMP_DIFF(boost_redemptions.creation_timestamp, boost_offers.creation_timestamp, HOUR) is null\n",
    "    \"\"\""
   ]
  },
  {
   "cell_type": "code",
   "execution_count": null,
   "metadata": {},
   "outputs": [],
   "source": [
    "cohort_behaviour_query = \"\"\"\n",
    "    select user_id, min(TIMESTAMP_MILLIS(time_transaction_occurred)), sum(amount) from ops.user_behaviour group by user_id\n",
    "\"\"\""
   ]
  },
  {
   "cell_type": "code",
   "execution_count": null,
   "metadata": {},
   "outputs": [],
   "source": [
    "saves_per_month = \"\"\"\n",
    "    select EXTRACT(MONTH from TIMESTAMP_MILLIS(time_transaction_occurred)) as save_month, unit, sum(amount) as sum, avg(amount), count(*) as count from ops.user_behaviour \n",
    "    where transaction_type = 'SAVING_EVENT' \n",
    "    group by save_month, unit \n",
    "    order by save_month desc;\n",
    "\"\"\""
   ]
  },
  {
   "cell_type": "code",
   "execution_count": null,
   "metadata": {},
   "outputs": [],
   "source": [
    "withdrawals_with_next_save = \"\"\"\n",
    "    with withdrawal_events as (\n",
    "      select user_id, event_type, timestamp_millis(time_transaction_occurred) as withdrawal_time, context\n",
    "      from ops.all_user_events where event_type = 'ADMIN_SETTLED_WITHDRAWAL'\n",
    "    ),\n",
    "    save_events as (\n",
    "      select user_id, transaction_type, timestamp_millis(time_transaction_occurred) as save_time, amount, unit\n",
    "      from ops.user_behaviour where transaction_type = 'SAVING_EVENT'\n",
    "    )\n",
    "    select withdrawal_events.user_id, withdrawal_events.withdrawal_time as withdrawal_time, \n",
    "    min(save_events.save_time) as next_save_time, count(save_events.save_time > withdrawal_time) as subsequent_save_count,\n",
    "    from withdrawal_events left join save_events on withdrawal_events.user_id = save_events.user_id\n",
    "    where (save_events.save_time > withdrawal_time)\n",
    "    group by user_id, withdrawal_events.withdrawal_time\n",
    "\"\"\""
   ]
  },
  {
   "cell_type": "code",
   "execution_count": null,
   "metadata": {},
   "outputs": [],
   "source": [
    "withdrawals_any_save = \"\"\"\n",
    "    with withdrawal_events as (\n",
    "      select user_id, event_type, timestamp_millis(time_transaction_occurred) as withdrawal_time, context\n",
    "      from ops.all_user_events where event_type = 'ADMIN_SETTLED_WITHDRAWAL'\n",
    "    ),\n",
    "    save_events as (\n",
    "      select user_id, transaction_type, timestamp_millis(time_transaction_occurred) as save_time, amount, unit\n",
    "      from ops.user_behaviour where transaction_type = 'SAVING_EVENT'\n",
    "    )\n",
    "    select count(distinct(withdrawal_events.user_id)),\n",
    "    from withdrawal_events inner join save_events on withdrawal_events.user_id = save_events.user_id\n",
    "    where (save_events.save_time > withdrawal_time)\n",
    "\"\"\""
   ]
  },
  {
   "cell_type": "code",
   "execution_count": null,
   "metadata": {},
   "outputs": [],
   "source": [
    "acc_open_to_withdrawal = \"\"\"\n",
    "with account_open_events as (\n",
    "  select user_id, event_type, timestamp_millis(time_transaction_occurred) as account_open_time, context\n",
    "  from ops.all_user_events where event_type = 'USER_CREATED_ACCOUNT'\n",
    "),\n",
    "withdrawal_events as (\n",
    "  select user_id, event_type, timestamp_millis(time_transaction_occurred) as withdrawal_time, context\n",
    "  from ops.all_user_events where event_type = 'ADMIN_SETTLED_WITHDRAWAL'\n",
    ")\n",
    "select account_open_events.user_id, account_open_events.account_open_time as account_open_time, \n",
    "min(withdrawal_events.withdrawal_time) as first_withdraw_time,\n",
    "TIMESTAMP_DIFF(min(withdrawal_events.withdrawal_time), account_open_time, DAY) as days_to_withdraw,\n",
    "from account_open_events inner join withdrawal_events on account_open_events.user_id = withdrawal_events.user_id\n",
    "group by user_id, account_open_time;\n",
    "\"\"\""
   ]
  },
  {
   "cell_type": "code",
   "execution_count": null,
   "metadata": {},
   "outputs": [],
   "source": [
    "last_save_time_df = bq.query(last_save_time_query).to_dataframe()"
   ]
  },
  {
   "cell_type": "code",
   "execution_count": null,
   "metadata": {},
   "outputs": [],
   "source": [
    "current_time = pd.Timestamp.now(tz='UTC')\n",
    "last_save_time_df['days_since'] = (current_time - last_save_time_df['save_time']).dt.days"
   ]
  },
  {
   "cell_type": "code",
   "execution_count": null,
   "metadata": {},
   "outputs": [],
   "source": [
    "day_divisions = [0, 15, 30, 45, 60, 75, 90, 105, 120]\n",
    "last_save_time_df.hist(bins=day_divisions)"
   ]
  },
  {
   "cell_type": "code",
   "execution_count": null,
   "metadata": {},
   "outputs": [],
   "source": [
    "pd.cut(last_save_time_df['days_since'], [0, 30, 60, 90, 120]).value_counts().sort_index()"
   ]
  },
  {
   "cell_type": "code",
   "execution_count": null,
   "metadata": {},
   "outputs": [],
   "source": [
    "acc_withdraw_df = bq.query(acc_open_to_withdrawal).to_dataframe()"
   ]
  },
  {
   "cell_type": "code",
   "execution_count": null,
   "metadata": {},
   "outputs": [],
   "source": [
    "acc_withdraw_df[\"days_to_withdraw\"].describe()"
   ]
  },
  {
   "cell_type": "code",
   "execution_count": null,
   "metadata": {},
   "outputs": [],
   "source": [
    "message_app_open = \"\"\"\n",
    "    with message_sent_event as (\n",
    "      select user_id, event_type, timestamp_millis(time_transaction_occurred) as time_message_sent, timestamp_trunc(timestamp_millis(time_transaction_occurred), HOUR) as message_hour\n",
    "      from ops.all_user_events where event_type = 'MESSAGE_SENT'\n",
    "    ),\n",
    "    app_open_event as (\n",
    "      select user_id, event_type, timestamp_millis(time_transaction_occurred) as app_open_time\n",
    "      from ops.all_user_events where event_type = 'USER_OPENED_APP'\n",
    "    )\n",
    "    select \n",
    "      message_sent_event.user_id, message_sent_event.message_hour, min(app_open_event.app_open_time) as earliest_app_open,\n",
    "    from \n",
    "      message_sent_event left join app_open_event on (message_sent_event.user_id = app_open_event.user_id and message_hour < app_open_time)\n",
    "    where \n",
    "      message_hour < timestamp_sub(current_timestamp, interval 2 DAY) and (\n",
    "        app_open_time is null or timestamp_diff(app_open_time, message_hour, HOUR) < 48\n",
    "      )\n",
    "    group by user_id, message_hour\n",
    "\"\"\""
   ]
  },
  {
   "cell_type": "code",
   "execution_count": null,
   "metadata": {},
   "outputs": [],
   "source": [
    "msg_open_df = bq.query(message_app_open).to_dataframe()"
   ]
  },
  {
   "cell_type": "code",
   "execution_count": null,
   "metadata": {},
   "outputs": [],
   "source": [
    "msg_open_df.dtypes"
   ]
  },
  {
   "cell_type": "code",
   "execution_count": null,
   "metadata": {},
   "outputs": [],
   "source": [
    "msg_open_df.index = msg_open_df['message_hour']"
   ]
  },
  {
   "cell_type": "code",
   "execution_count": null,
   "metadata": {},
   "outputs": [],
   "source": [
    "monthly_counts = msg_open_df.resample('M').count()\n",
    "monthly_counts.head()"
   ]
  },
  {
   "cell_type": "code",
   "execution_count": null,
   "metadata": {},
   "outputs": [],
   "source": [
    "monthly_counts['open_rate'] = monthly_counts['earliest_app_open'] / monthly_counts['user_id']"
   ]
  },
  {
   "cell_type": "code",
   "execution_count": null,
   "metadata": {},
   "outputs": [],
   "source": [
    "monthly_counts"
   ]
  },
  {
   "cell_type": "code",
   "execution_count": null,
   "metadata": {},
   "outputs": [],
   "source": [
    "saves_by_cohorts = \"\"\"\n",
    "with account_open_events as (\n",
    "  select user_id, event_type, timestamp_millis(time_transaction_occurred) as account_open_time, context\n",
    "  from ops.all_user_events where event_type = 'USER_CREATED_ACCOUNT'\n",
    "),\n",
    "save_events as (\n",
    "  select user_id, timestamp_millis(time_transaction_occurred) as save_time, amount / 10000 as save_amount_fc\n",
    "  from ops.user_behaviour where transaction_type = 'SAVING_EVENT'\n",
    ")\n",
    "select account_open_events.user_id, account_open_events.account_open_time, \n",
    "count(save_time) as count_save_events, max(save_amount_fc) as max_save, sum(save_amount_fc) as total_save, avg(save_amount_fc) as average_save,\n",
    "from \n",
    "  account_open_events inner join save_events on account_open_events.user_id = save_events.user_id\n",
    "group by user_id, account_open_time;\n",
    "\"\"\""
   ]
  },
  {
   "cell_type": "code",
   "execution_count": null,
   "metadata": {},
   "outputs": [],
   "source": [
    "save_df = bq.query(saves_by_cohorts).to_dataframe()"
   ]
  },
  {
   "cell_type": "code",
   "execution_count": null,
   "metadata": {},
   "outputs": [],
   "source": [
    "save_df.dtypes"
   ]
  },
  {
   "cell_type": "code",
   "execution_count": null,
   "metadata": {},
   "outputs": [],
   "source": [
    "save_df.index = save_df['account_open_time']"
   ]
  },
  {
   "cell_type": "code",
   "execution_count": null,
   "metadata": {},
   "outputs": [],
   "source": [
    "save_monthly_cohorts = save_df.resample('M')"
   ]
  },
  {
   "cell_type": "code",
   "execution_count": null,
   "metadata": {},
   "outputs": [],
   "source": [
    "cohort_data = [save_monthly_cohorts['total_save'].sum(), save_monthly_cohorts['average_save'].mean()]"
   ]
  },
  {
   "cell_type": "code",
   "execution_count": null,
   "metadata": {},
   "outputs": [],
   "source": [
    "cohort_data"
   ]
  },
  {
   "cell_type": "code",
   "execution_count": null,
   "metadata": {},
   "outputs": [],
   "source": [
    "boost_inducing = \"\"\"\n",
    "with boost_offers as (\n",
    "        select *, TIMESTAMP_MILLIS(created_at) as boost_creation_time \n",
    "        from ops.all_user_events \n",
    "        where event_type like 'BOOST_CREATED%'\n",
    "\n",
    "), save_events as (\n",
    "        select *, TIMESTAMP_MILLIS(created_at) as next_save_time \n",
    "        from ops.all_user_events \n",
    "        where event_type = 'SAVING_PAYMENT_SUCCESSFUL'\n",
    ")\n",
    "select boost_offers.user_id, boost_creation_time, min(next_save_time) as earliest_save_time\n",
    "from boost_offers left join save_events \n",
    "on boost_offers.user_id = save_events.user_id and boost_creation_time < next_save_time\n",
    "where boost_creation_time < timestamp_sub(current_timestamp, interval 2 DAY) and (\n",
    "  next_save_time is null or timestamp_diff(next_save_time, boost_creation_time, HOUR) < 96\n",
    ")\n",
    "group by boost_offers.user_id, boost_creation_time\n",
    "\"\"\""
   ]
  },
  {
   "cell_type": "code",
   "execution_count": null,
   "metadata": {},
   "outputs": [],
   "source": [
    "boost_offer_df = bq.query(boost_inducing).to_dataframe()"
   ]
  },
  {
   "cell_type": "code",
   "execution_count": null,
   "metadata": {},
   "outputs": [],
   "source": [
    "boost_offer_df.dtypes"
   ]
  },
  {
   "cell_type": "code",
   "execution_count": null,
   "metadata": {},
   "outputs": [],
   "source": [
    "boost_offer_df.index = boost_offer_df['boost_creation_time']"
   ]
  },
  {
   "cell_type": "code",
   "execution_count": null,
   "metadata": {},
   "outputs": [],
   "source": [
    "boost_monthly_counts = boost_offer_df.resample('M').count()"
   ]
  },
  {
   "cell_type": "code",
   "execution_count": null,
   "metadata": {},
   "outputs": [],
   "source": [
    "boost_monthly_counts.head()"
   ]
  },
  {
   "cell_type": "code",
   "execution_count": null,
   "metadata": {},
   "outputs": [],
   "source": [
    "boost_monthly_counts['induce_rate'] = boost_monthly_counts['earliest_save_time'] / boost_monthly_counts['boost_creation_time']"
   ]
  },
  {
   "cell_type": "code",
   "execution_count": null,
   "metadata": {},
   "outputs": [],
   "source": [
    "boost_monthly_counts.head()"
   ]
  },
  {
   "cell_type": "code",
   "execution_count": null,
   "metadata": {},
   "outputs": [],
   "source": [
    "boost_offer_df['month'] = boost_offer_df['boost_creation_time'].dt.month"
   ]
  },
  {
   "cell_type": "code",
   "execution_count": null,
   "metadata": {},
   "outputs": [],
   "source": [
    "boost_monthly_agg = boost_offer_df.groupby('month').count()\n",
    "boost_monthly_agg['unique_users'] = boost_offer_df.groupby('month')['user_id'].nunique()\n",
    "boost_monthly_agg['boost_per_user'] = boost_monthly_agg['boost_creation_time'] / boost_monthly_agg['unique_users']\n",
    "boost_monthly_agg['induce_rate'] = boost_monthly_agg['earliest_save_time'] / boost_monthly_agg['unique_users']\n",
    "boost_monthly_agg = boost_monthly_agg[['boost_creation_time', 'earliest_save_time', 'unique_users', 'boost_per_user', 'induce_rate']]"
   ]
  },
  {
   "cell_type": "code",
   "execution_count": null,
   "metadata": {},
   "outputs": [],
   "source": [
    "boost_monthly_agg"
   ]
  },
  {
   "cell_type": "code",
   "execution_count": null,
   "metadata": {},
   "outputs": [],
   "source": [
    "saves_by_cohorts_after_14_days = \"\"\"\n",
    "with first_save_event as (\n",
    "  select user_id, min(timestamp_millis(time_transaction_occurred)) as first_save_time,\n",
    "  from ops.all_user_events where event_type = 'SAVING_PAYMENT_SUCCESSFUL' group by user_id\n",
    "),\n",
    "save_events as (\n",
    "  select user_id, timestamp_millis(time_transaction_occurred) as save_time, amount / 10000 as save_amount_fc\n",
    "  from ops.user_behaviour where transaction_type = 'SAVING_EVENT'\n",
    ")\n",
    "select first_save_event.user_id, first_save_time, count(save_time) as later_saves, avg(save_amount_fc) as average_save,\n",
    "from first_save_event inner join save_events on \n",
    "  first_save_event.user_id = save_events.user_id\n",
    "  and timestamp_diff(save_time, first_save_time, DAY) > 14\n",
    "where first_save_time < timestamp_sub(current_timestamp, interval 30 DAY)\n",
    "group by first_save_event.user_id, first_save_time; \n",
    "\"\"\""
   ]
  },
  {
   "cell_type": "code",
   "execution_count": null,
   "metadata": {},
   "outputs": [],
   "source": [
    "saves_by_first_save = bq.query(saves_by_cohorts_after_14_days).to_dataframe()"
   ]
  },
  {
   "cell_type": "code",
   "execution_count": null,
   "metadata": {},
   "outputs": [],
   "source": [
    "saves_by_first_save['month'] = saves_by_first_save.first_save_time.dt.month\n",
    "saves_by_first_save['year'] = saves_by_first_save.first_save_time.dt.year"
   ]
  },
  {
   "cell_type": "code",
   "execution_count": null,
   "metadata": {},
   "outputs": [],
   "source": [
    "saves_by_first_save"
   ]
  },
  {
   "cell_type": "code",
   "execution_count": null,
   "metadata": {},
   "outputs": [],
   "source": [
    "save_stats_by_cohort = saves_by_first_save.groupby(['month', 'year'])"
   ]
  },
  {
   "cell_type": "code",
   "execution_count": null,
   "metadata": {},
   "outputs": [],
   "source": [
    "save_stats_by_cohort.aggregate(\n",
    "    { 'user_id': pd.Series.nunique, 'average_save': np.mean, 'later_saves': np.mean }\n",
    ")"
   ]
  },
  {
   "cell_type": "code",
   "execution_count": null,
   "metadata": {},
   "outputs": [],
   "source": [
    "wns_df = bq.query(withdrawals_with_next_save).to_dataframe()"
   ]
  },
  {
   "cell_type": "code",
   "execution_count": null,
   "metadata": {},
   "outputs": [],
   "source": [
    "len(wns_df)"
   ]
  }
 ],
 "metadata": {
  "kernelspec": {
   "display_name": "Python [conda env:jupiter-ml] *",
   "language": "python",
   "name": "conda-env-jupiter-ml-py"
  },
  "language_info": {
   "codemirror_mode": {
    "name": "ipython",
    "version": 3
   },
   "file_extension": ".py",
   "mimetype": "text/x-python",
   "name": "python",
   "nbconvert_exporter": "python",
   "pygments_lexer": "ipython3",
   "version": "3.8.3"
  }
 },
 "nbformat": 4,
 "nbformat_minor": 4
}
