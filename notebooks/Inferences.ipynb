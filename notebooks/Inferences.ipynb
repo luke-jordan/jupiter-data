{
 "cells": [
  {
   "cell_type": "code",
   "execution_count": null,
   "metadata": {},
   "outputs": [],
   "source": [
    "import pandas as pd"
   ]
  },
  {
   "cell_type": "code",
   "execution_count": null,
   "metadata": {},
   "outputs": [],
   "source": [
    "from joblib import dump, load\n",
    "from tempfile import TemporaryFile"
   ]
  },
  {
   "cell_type": "code",
   "execution_count": null,
   "metadata": {},
   "outputs": [],
   "source": [
    "from google.cloud import storage, bigquery as bq"
   ]
  },
  {
   "cell_type": "markdown",
   "metadata": {},
   "source": [
    "## Retrieve and load the latest model"
   ]
  },
  {
   "cell_type": "code",
   "execution_count": null,
   "metadata": {},
   "outputs": [],
   "source": [
    "storage_client = storage.Client()"
   ]
  },
  {
   "cell_type": "code",
   "execution_count": null,
   "metadata": {},
   "outputs": [],
   "source": [
    "# need to have one as 'latest'\n",
    "def retrieve_and_load_model(model_name = 'boost_target_model_latest'):\n",
    "    bucket = storage_client.bucket('jupiter_models_staging')\n",
    "    blob = bucket.blob(f'{model_name}.joblib')\n",
    "    \n",
    "    with TemporaryFile() as temp_file:\n",
    "        print('Downloading to temporary file')\n",
    "        blob.download_to_file(temp_file)\n",
    "        print('Fetched, about to load')\n",
    "        temp_file.seek(0)\n",
    "        model = load(temp_file)\n",
    "        print('Model loaded: ', model)\n",
    "        return model"
   ]
  },
  {
   "cell_type": "code",
   "execution_count": null,
   "metadata": {},
   "outputs": [],
   "source": [
    "inference_model = retrieve_and_load_model()"
   ]
  },
  {
   "cell_type": "markdown",
   "metadata": {},
   "source": [
    "## Get features for users"
   ]
  },
  {
   "cell_type": "code",
   "execution_count": null,
   "metadata": {},
   "outputs": [],
   "source": [
    "bq_client = bq.Client()"
   ]
  },
  {
   "cell_type": "code",
   "execution_count": null,
   "metadata": {},
   "outputs": [],
   "source": [
    "def enrich_users_from_bq(user_ids):\n",
    "    # we need to get their (i) prior save count, (ii) when first saved, (iii) last saved, and (iv) if they have redeemed prior\n",
    "    # the first can be found from the user behaviour table, and the second from the all events table\n",
    "    job_config = bq.QueryJobConfig(\n",
    "        query_parameters=[\n",
    "            bq.ArrayQueryParameter(\"user_ids\", \"STRING\", user_ids)\n",
    "        ]\n",
    "    )\n",
    "\n",
    "    save_query = \"\"\"\n",
    "        with save_data as (select user_id, \n",
    "            count(*) as prior_save_count,\n",
    "            max(TIMESTAMP_MILLIS(time_transaction_occurred)) as latest_save_date,\n",
    "            min(TIMESTAMP_MILLIS(time_transaction_occurred)) as earliest_save_date\n",
    "        from ops.user_behaviour\n",
    "            where transaction_type = 'SAVING_EVENT'\n",
    "            and user_id in UNNEST(@user_ids) group by user_id) \n",
    "\n",
    "        select user_id, prior_save_count, \n",
    "            latest_save_date, TIMESTAMP_DIFF(current_timestamp, latest_save_date, HOUR) as hours_since_latest, \n",
    "            earliest_save_date, TIMESTAMP_DIFF(current_timestamp, earliest_save_date, HOUR) as hours_since_earliest, \n",
    "        from save_data\n",
    "    \"\"\"\n",
    "    \n",
    "    df = bq_client.query(save_query, job_config=job_config).to_dataframe()\n",
    "\n",
    "    boost_query = \"\"\"\n",
    "    select user_id, count(*) as number_boost_redeems \n",
    "    from ops.all_user_events where event_type = 'BOOST_REDEEMED' and user_id in UNNEST(@user_ids)\n",
    "    group by user_id, event_type\n",
    "    \"\"\"\n",
    "\n",
    "    boost_df = bq_client.query(boost_query, job_config=job_config).to_dataframe()\n",
    "\n",
    "    df = df.merge(boost_df, how='left').fillna(0)\n",
    "\n",
    "    return df"
   ]
  },
  {
   "cell_type": "code",
   "execution_count": null,
   "metadata": {},
   "outputs": [],
   "source": [
    "def add_one_hots(df, boost_type_category):\n",
    "    all_boost_type_categories = [\n",
    "        'GAME::CHASE_ARROW', \n",
    "        'GAME::DESTROY_IMAGE',\n",
    "        'GAME::TAP_SCREEN', \n",
    "        'SIMPLE::ROUND_UP',\n",
    "        'SIMPLE::SIMPLE_SAVE', \n",
    "        'SIMPLE::TIME_LIMITED',\n",
    "        'SIMPLE::TARGET_BALANCE',\n",
    "        'SOCIAL::FRIENDS_ADDED',\n",
    "        'SOCIAL::NUMBER_FRIENDS',\n",
    "        'WITHDRAWAL::CANCEL_WITHDRAWAL'\n",
    "    ]\n",
    "    \n",
    "    assignment_args = {}\n",
    "    for category in all_boost_type_categories:\n",
    "        column_name = f'boost_type_category_{category}'\n",
    "        assignment_args[column_name] = int(category == boost_type_category)\n",
    "    \n",
    "    return df.assign(**assignment_args)"
   ]
  },
  {
   "cell_type": "code",
   "execution_count": null,
   "metadata": {},
   "outputs": [],
   "source": [
    "def assemble_input_rows(boost_data, user_ids):\n",
    "    boost_features = []\n",
    "    user_id_features = retrieve_features_for_model(user_ids)\n",
    "    combined_rows = pd.merge()\n",
    "    return combined_rows"
   ]
  },
  {
   "cell_type": "code",
   "execution_count": null,
   "metadata": {},
   "outputs": [],
   "source": [
    "sample_boost = { 'boost_type_category': 'SIMPLE::SIMPLE_SAVE', 'boost_amount_whole_currency': 10 }"
   ]
  },
  {
   "cell_type": "code",
   "execution_count": null,
   "metadata": {},
   "outputs": [],
   "source": [
    "# sample_user_ids = ['b0041713-9326-4cd3-9dfe-8f022afaad73']\n",
    "sample_user_ids = ['b0041713-9326-4cd3-9dfe-8f022afaad73', '27b00e1c-4f32-4631-a67b-88aaf5a01d0c']"
   ]
  },
  {
   "cell_type": "code",
   "execution_count": null,
   "metadata": {},
   "outputs": [],
   "source": [
    "bq_df = enrich_users_from_bq(sample_user_ids)"
   ]
  },
  {
   "cell_type": "code",
   "execution_count": null,
   "metadata": {},
   "outputs": [],
   "source": [
    "bq_df.head()"
   ]
  },
  {
   "cell_type": "code",
   "execution_count": null,
   "metadata": {},
   "outputs": [],
   "source": [
    "len(bq_df)"
   ]
  },
  {
   "cell_type": "code",
   "execution_count": null,
   "metadata": {},
   "outputs": [],
   "source": [
    "pd.DataFrame({ 'user_ids': sample_user_ids, 'should_offer': False })"
   ]
  },
  {
   "cell_type": "code",
   "execution_count": null,
   "metadata": {},
   "outputs": [],
   "source": [
    "bq_df['user_id']"
   ]
  }
 ],
 "metadata": {
  "kernelspec": {
   "display_name": "Python [conda env:jupiter-ml] *",
   "language": "python",
   "name": "conda-env-jupiter-ml-py"
  },
  "language_info": {
   "codemirror_mode": {
    "name": "ipython",
    "version": 3
   },
   "file_extension": ".py",
   "mimetype": "text/x-python",
   "name": "python",
   "nbconvert_exporter": "python",
   "pygments_lexer": "ipython3",
   "version": "3.8.3"
  }
 },
 "nbformat": 4,
 "nbformat_minor": 4
}
